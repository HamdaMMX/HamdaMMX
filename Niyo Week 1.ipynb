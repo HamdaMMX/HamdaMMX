{
  "nbformat": 4,
  "nbformat_minor": 0,
  "metadata": {
    "colab": {
      "provenance": [],
      "authorship_tag": "ABX9TyMOJI2/3Shupc6iVWSxP4l8",
      "include_colab_link": true
    },
    "kernelspec": {
      "name": "python3",
      "display_name": "Python 3"
    },
    "language_info": {
      "name": "python"
    }
  },
  "cells": [
    {
      "cell_type": "markdown",
      "metadata": {
        "id": "view-in-github",
        "colab_type": "text"
      },
      "source": [
        "<a href=\"https://colab.research.google.com/github/HamdaMMX/HamdaMMX/blob/main/Niyo%20Week%201.ipynb\" target=\"_parent\"><img src=\"https://colab.research.google.com/assets/colab-badge.svg\" alt=\"Open In Colab\"/></a>"
      ]
    },
    {
      "cell_type": "code",
      "execution_count": null,
      "metadata": {
        "id": "oG6Mbwv7NHpf"
      },
      "outputs": [],
      "source": [
        "a=5\n",
        "\n",
        "Age=24"
      ]
    },
    {
      "cell_type": "code",
      "source": [
        "age_squared= Age**2"
      ],
      "metadata": {
        "id": "nqIiv-whOx09"
      },
      "execution_count": null,
      "outputs": []
    },
    {
      "cell_type": "code",
      "source": [
        "age_squared"
      ],
      "metadata": {
        "colab": {
          "base_uri": "https://localhost:8080/"
        },
        "id": "3iBsYtwsO11C",
        "outputId": "573eb0a7-c9f9-4db2-ce06-fb3dfc9eb623"
      },
      "execution_count": null,
      "outputs": [
        {
          "output_type": "execute_result",
          "data": {
            "text/plain": [
              "576"
            ]
          },
          "metadata": {},
          "execution_count": 13
        }
      ]
    },
    {
      "cell_type": "code",
      "source": [
        "Cash=100"
      ],
      "metadata": {
        "id": "ZXXQaX44ZzGO"
      },
      "execution_count": null,
      "outputs": []
    },
    {
      "cell_type": "code",
      "source": [
        "Price=10"
      ],
      "metadata": {
        "id": "5VrH4UhGSP0V"
      },
      "execution_count": null,
      "outputs": []
    },
    {
      "cell_type": "code",
      "source": [
        "Quantity=6"
      ],
      "metadata": {
        "id": "FrKcoxiHSXlx"
      },
      "execution_count": null,
      "outputs": []
    },
    {
      "cell_type": "code",
      "source": [
        "Discount_Percentage= 60/100"
      ],
      "metadata": {
        "id": "Nfht6MC6Uqsz"
      },
      "execution_count": null,
      "outputs": []
    },
    {
      "cell_type": "code",
      "source": [
        "Cost= Price*Quantity*Discount_Percentage"
      ],
      "metadata": {
        "id": "dp-tw5ocSff2"
      },
      "execution_count": null,
      "outputs": []
    },
    {
      "cell_type": "code",
      "source": [
        "Change= Cash-Cost"
      ],
      "metadata": {
        "id": "aLYMhBehWZvp"
      },
      "execution_count": null,
      "outputs": []
    }
  ]
}