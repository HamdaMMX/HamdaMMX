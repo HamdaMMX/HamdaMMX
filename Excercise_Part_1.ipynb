{
  "nbformat": 4,
  "nbformat_minor": 0,
  "metadata": {
    "colab": {
      "provenance": [],
      "authorship_tag": "ABX9TyMSMZatX1j9xwHZZb1WC5nG",
      "include_colab_link": true
    },
    "kernelspec": {
      "name": "python3",
      "display_name": "Python 3"
    },
    "language_info": {
      "name": "python"
    }
  },
  "cells": [
    {
      "cell_type": "markdown",
      "metadata": {
        "id": "view-in-github",
        "colab_type": "text"
      },
      "source": [
        "<a href=\"https://colab.research.google.com/github/HamdaMMX/HamdaMMX/blob/main/Excercise_Part_1.ipynb\" target=\"_parent\"><img src=\"https://colab.research.google.com/assets/colab-badge.svg\" alt=\"Open In Colab\"/></a>"
      ]
    },
    {
      "cell_type": "markdown",
      "source": [
        "# Excersise Part 1: Strings, Variables, F Strings, Lists and Dictionairies\n",
        "\n"
      ],
      "metadata": {
        "id": "nq3WX6I65e1b"
      }
    },
    {
      "cell_type": "code",
      "execution_count": 47,
      "metadata": {
        "id": "kiMAcigcT8BT"
      },
      "outputs": [],
      "source": [
        "# a)\n",
        "x=10\n",
        "y=20\n",
        "z=30"
      ]
    },
    {
      "cell_type": "code",
      "source": [
        "x+y+z"
      ],
      "metadata": {
        "colab": {
          "base_uri": "https://localhost:8080/"
        },
        "id": "-lr6RnpLUXL-",
        "outputId": "6983fb1c-ca28-4deb-97e4-fd8bc5481931"
      },
      "execution_count": 48,
      "outputs": [
        {
          "output_type": "execute_result",
          "data": {
            "text/plain": [
              "60"
            ]
          },
          "metadata": {},
          "execution_count": 48
        }
      ]
    },
    {
      "cell_type": "code",
      "source": [
        "#  b.\n",
        "my_list= list(('Beyonce','Wizkid','Burna_Boy','Drake','Rihana'))"
      ],
      "metadata": {
        "id": "RZSOAWJrUrQy"
      },
      "execution_count": 49,
      "outputs": []
    },
    {
      "cell_type": "code",
      "source": [
        "print(my_list)"
      ],
      "metadata": {
        "colab": {
          "base_uri": "https://localhost:8080/"
        },
        "id": "WiRZmTZpVhh1",
        "outputId": "2cb401ad-1fd6-41b0-fd8e-3c2dda561a39"
      },
      "execution_count": 50,
      "outputs": [
        {
          "output_type": "stream",
          "name": "stdout",
          "text": [
            "['Beyonce', 'Wizkid', 'Burna_Boy', 'Drake', 'Rihana']\n"
          ]
        }
      ]
    },
    {
      "cell_type": "code",
      "source": [
        "print(my_list [1])"
      ],
      "metadata": {
        "colab": {
          "base_uri": "https://localhost:8080/"
        },
        "id": "hSb5gNHulucG",
        "outputId": "a804df63-0cf8-46d3-d210-661e49e96689"
      },
      "execution_count": 51,
      "outputs": [
        {
          "output_type": "stream",
          "name": "stdout",
          "text": [
            "Wizkid\n"
          ]
        }
      ]
    },
    {
      "cell_type": "code",
      "source": [
        "#  b. i)\n",
        "my_list[2]='Adele'"
      ],
      "metadata": {
        "id": "XZBqnxlNmanc"
      },
      "execution_count": 52,
      "outputs": []
    },
    {
      "cell_type": "code",
      "source": [
        "#  b. ii)\n",
        "my_list [5:7]= 'Craig David', 'Tems'"
      ],
      "metadata": {
        "id": "CmAsoEMqonDF"
      },
      "execution_count": 53,
      "outputs": []
    },
    {
      "cell_type": "code",
      "source": [
        "#b. iii)\n",
        "len(my_list)"
      ],
      "metadata": {
        "colab": {
          "base_uri": "https://localhost:8080/"
        },
        "id": "ZX6iN7NzoyE2",
        "outputId": "7d18dad9-815d-4046-9fbb-e62251ede5ae"
      },
      "execution_count": 54,
      "outputs": [
        {
          "output_type": "execute_result",
          "data": {
            "text/plain": [
              "7"
            ]
          },
          "metadata": {},
          "execution_count": 54
        }
      ]
    },
    {
      "cell_type": "code",
      "source": [
        "print(my_list)"
      ],
      "metadata": {
        "colab": {
          "base_uri": "https://localhost:8080/"
        },
        "id": "oGRw7KPVra45",
        "outputId": "a6afd49e-8f69-4d04-b948-b28919542886"
      },
      "execution_count": 55,
      "outputs": [
        {
          "output_type": "stream",
          "name": "stdout",
          "text": [
            "['Beyonce', 'Wizkid', 'Adele', 'Drake', 'Rihana', 'Craig David', 'Tems']\n"
          ]
        }
      ]
    },
    {
      "cell_type": "code",
      "source": [
        "my_first_name= \"anna\""
      ],
      "metadata": {
        "id": "mEu6eGHq67m3"
      },
      "execution_count": 59,
      "outputs": []
    },
    {
      "cell_type": "code",
      "source": [
        "type(6.7)"
      ],
      "metadata": {
        "colab": {
          "base_uri": "https://localhost:8080/"
        },
        "id": "TUPC1KJZrlsB",
        "outputId": "00a41e74-d452-4d35-9221-d52c89983b12"
      },
      "execution_count": 56,
      "outputs": [
        {
          "output_type": "execute_result",
          "data": {
            "text/plain": [
              "float"
            ]
          },
          "metadata": {},
          "execution_count": 56
        }
      ]
    },
    {
      "cell_type": "code",
      "source": [
        "type(10)"
      ],
      "metadata": {
        "colab": {
          "base_uri": "https://localhost:8080/"
        },
        "id": "81C5GIbgrwPs",
        "outputId": "21f31192-9206-439d-a2db-2392b47618ba"
      },
      "execution_count": null,
      "outputs": [
        {
          "output_type": "execute_result",
          "data": {
            "text/plain": [
              "int"
            ]
          },
          "metadata": {},
          "execution_count": 39
        }
      ]
    },
    {
      "cell_type": "code",
      "source": [
        "type(True)"
      ],
      "metadata": {
        "colab": {
          "base_uri": "https://localhost:8080/"
        },
        "id": "daTGVularxZj",
        "outputId": "f536c221-bf68-47b4-d56b-ec63be2122b2"
      },
      "execution_count": null,
      "outputs": [
        {
          "output_type": "execute_result",
          "data": {
            "text/plain": [
              "bool"
            ]
          },
          "metadata": {},
          "execution_count": 40
        }
      ]
    },
    {
      "cell_type": "code",
      "source": [
        "type('Hello World')"
      ],
      "metadata": {
        "colab": {
          "base_uri": "https://localhost:8080/"
        },
        "id": "6NqlFZZDr0P5",
        "outputId": "787d083a-552e-401a-e67e-86a262ccc9bf"
      },
      "execution_count": null,
      "outputs": [
        {
          "output_type": "execute_result",
          "data": {
            "text/plain": [
              "str"
            ]
          },
          "metadata": {},
          "execution_count": 45
        }
      ]
    },
    {
      "cell_type": "code",
      "source": [
        "thisdict= {\n",
        "    \"Sophia\":\"5000\",\n",
        "    \"Michael\": \"2000\",\n",
        "    \"Lisa\": \"2500\"\n",
        "    \n",
        "}"
      ],
      "metadata": {
        "id": "LGu2Glw0sXDZ"
      },
      "execution_count": null,
      "outputs": []
    },
    {
      "cell_type": "code",
      "source": [
        "thisdict.update({\"Sophia\":\"6200\"})"
      ],
      "metadata": {
        "id": "gK0iBwY3tPeJ"
      },
      "execution_count": null,
      "outputs": []
    },
    {
      "cell_type": "code",
      "source": [
        "thisdict.update({\"Emma\":\"8000\"})"
      ],
      "metadata": {
        "id": "Z93SDr6Stg-6"
      },
      "execution_count": null,
      "outputs": []
    },
    {
      "cell_type": "code",
      "source": [
        "print(thisdict)"
      ],
      "metadata": {
        "colab": {
          "base_uri": "https://localhost:8080/"
        },
        "id": "vDFgvWkIwNgM",
        "outputId": "9c115d93-5cb4-4cb4-9944-7ab28ad8c783"
      },
      "execution_count": null,
      "outputs": [
        {
          "output_type": "stream",
          "name": "stdout",
          "text": [
            "{'Sophia': '6200', 'Michael': '2000', 'Lisa': '2500', 'Emma': '8000'}\n"
          ]
        }
      ]
    },
    {
      "cell_type": "code",
      "source": [
        "print(\"hello world python is great lovely stuff!\")"
      ],
      "metadata": {
        "colab": {
          "base_uri": "https://localhost:8080/"
        },
        "id": "vfM9GJfVtudE",
        "outputId": "84751d45-2bd7-459c-d360-2965d22d0ea4"
      },
      "execution_count": null,
      "outputs": [
        {
          "output_type": "stream",
          "name": "stdout",
          "text": [
            "hello world python is great lovely stuff!\n"
          ]
        }
      ]
    },
    {
      "cell_type": "code",
      "source": [
        "phrase= \"hello world python is great lovely stuff!\""
      ],
      "metadata": {
        "id": "Yl6vIRd5uRcx"
      },
      "execution_count": null,
      "outputs": []
    },
    {
      "cell_type": "code",
      "source": [
        "phrase[12:27]"
      ],
      "metadata": {
        "colab": {
          "base_uri": "https://localhost:8080/",
          "height": 35
        },
        "id": "EmZy3Kr9ulzJ",
        "outputId": "f1628b93-5e20-43dd-d8af-4fa92985522b"
      },
      "execution_count": null,
      "outputs": [
        {
          "output_type": "execute_result",
          "data": {
            "text/plain": [
              "'python is great'"
            ],
            "application/vnd.google.colaboratory.intrinsic+json": {
              "type": "string"
            }
          },
          "metadata": {},
          "execution_count": 61
        }
      ]
    },
    {
      "cell_type": "code",
      "source": [
        "x=67\n",
        "y=5\n",
        "z-67.5\n",
        "w=10\n",
        "v=5"
      ],
      "metadata": {
        "id": "-WljmGEjvBsK"
      },
      "execution_count": null,
      "outputs": []
    },
    {
      "cell_type": "code",
      "source": [
        "x>y"
      ],
      "metadata": {
        "colab": {
          "base_uri": "https://localhost:8080/"
        },
        "id": "89B_WnxEvJzI",
        "outputId": "ad5150cf-0a63-46bc-f20a-eda2a2b3bb93"
      },
      "execution_count": null,
      "outputs": [
        {
          "output_type": "execute_result",
          "data": {
            "text/plain": [
              "True"
            ]
          },
          "metadata": {},
          "execution_count": 63
        }
      ]
    },
    {
      "cell_type": "code",
      "source": [
        "y<z"
      ],
      "metadata": {
        "colab": {
          "base_uri": "https://localhost:8080/"
        },
        "id": "pPLWNv50vNdn",
        "outputId": "33caaf40-fe2d-4416-df0f-59bf9ba5e93a"
      },
      "execution_count": null,
      "outputs": [
        {
          "output_type": "execute_result",
          "data": {
            "text/plain": [
              "True"
            ]
          },
          "metadata": {},
          "execution_count": 64
        }
      ]
    },
    {
      "cell_type": "code",
      "source": [
        "w==z"
      ],
      "metadata": {
        "colab": {
          "base_uri": "https://localhost:8080/"
        },
        "id": "fMBv7VsHvSmN",
        "outputId": "304ae6a4-5362-478a-d107-bcc8c5fe4272"
      },
      "execution_count": null,
      "outputs": [
        {
          "output_type": "execute_result",
          "data": {
            "text/plain": [
              "False"
            ]
          },
          "metadata": {},
          "execution_count": 69
        }
      ]
    },
    {
      "cell_type": "code",
      "source": [
        "w<=v"
      ],
      "metadata": {
        "colab": {
          "base_uri": "https://localhost:8080/"
        },
        "id": "7hHZVOjsv-s8",
        "outputId": "9d7b4426-6980-4d0a-ac88-eb784261c85f"
      },
      "execution_count": null,
      "outputs": [
        {
          "output_type": "execute_result",
          "data": {
            "text/plain": [
              "False"
            ]
          },
          "metadata": {},
          "execution_count": 70
        }
      ]
    },
    {
      "cell_type": "code",
      "source": [
        "#h) Mortgage Caluculator"
      ],
      "metadata": {
        "id": "g7yGcZZjw8va"
      },
      "execution_count": null,
      "outputs": []
    },
    {
      "cell_type": "code",
      "source": [
        "Cost= int(input(\"Enter Cost:\"))"
      ],
      "metadata": {
        "colab": {
          "base_uri": "https://localhost:8080/"
        },
        "id": "K38_ukjUxE_S",
        "outputId": "406bef8c-a43b-4987-a9f0-4a53bb6d0ba9"
      },
      "execution_count": null,
      "outputs": [
        {
          "name": "stdout",
          "output_type": "stream",
          "text": [
            "Enter Cost:500000\n"
          ]
        }
      ]
    },
    {
      "cell_type": "code",
      "source": [
        "Deposit= float(input(\"Enter Desposit:\"))"
      ],
      "metadata": {
        "colab": {
          "base_uri": "https://localhost:8080/"
        },
        "id": "yfgMoAszxktQ",
        "outputId": "92836e51-ac37-40b9-8636-62a176f0b17e"
      },
      "execution_count": null,
      "outputs": [
        {
          "name": "stdout",
          "output_type": "stream",
          "text": [
            "Enter Desposit:0.2\n"
          ]
        }
      ]
    },
    {
      "cell_type": "code",
      "source": [
        "Mortgage_Deposit= Deposit* Cost"
      ],
      "metadata": {
        "id": "x73HXVcYjDtH"
      },
      "execution_count": null,
      "outputs": []
    },
    {
      "cell_type": "code",
      "source": [
        "print(Mortgage_Deposit)"
      ],
      "metadata": {
        "colab": {
          "base_uri": "https://localhost:8080/"
        },
        "id": "9R6J1FMhj8KW",
        "outputId": "45ec5217-12d6-4c2a-a123-c7ea7c9efb01"
      },
      "execution_count": null,
      "outputs": [
        {
          "output_type": "stream",
          "name": "stdout",
          "text": [
            "100000.0\n"
          ]
        }
      ]
    },
    {
      "cell_type": "code",
      "source": [
        "Borrowing_Amount= int(input(\"Enter amount you want to borrow:\"))"
      ],
      "metadata": {
        "colab": {
          "base_uri": "https://localhost:8080/"
        },
        "id": "oRiZlzLVXzJ3",
        "outputId": "b9414b4f-c3d6-427d-e3d2-93f2e7a5186e"
      },
      "execution_count": null,
      "outputs": [
        {
          "name": "stdout",
          "output_type": "stream",
          "text": [
            "Enter amount you want to borrow:100000\n"
          ]
        }
      ]
    },
    {
      "cell_type": "code",
      "source": [
        "Years= int(input('How many years will you borrow for?'))"
      ],
      "metadata": {
        "colab": {
          "base_uri": "https://localhost:8080/"
        },
        "id": "e6-pddY-kknn",
        "outputId": "67af0dbe-b77f-4e22-f0a3-eae38b75bec0"
      },
      "execution_count": null,
      "outputs": [
        {
          "name": "stdout",
          "output_type": "stream",
          "text": [
            "How many years will you borrow for?30\n"
          ]
        }
      ]
    },
    {
      "cell_type": "code",
      "source": [
        "APR=0.2"
      ],
      "metadata": {
        "id": "cUZxEykVlKL1"
      },
      "execution_count": null,
      "outputs": []
    },
    {
      "cell_type": "code",
      "source": [
        "Monthly_Payment= Borrowing_Amount / Years * APR"
      ],
      "metadata": {
        "id": "6CRWoqpclPSc"
      },
      "execution_count": null,
      "outputs": []
    },
    {
      "cell_type": "code",
      "source": [
        "print(Monthly_Payment)"
      ],
      "metadata": {
        "colab": {
          "base_uri": "https://localhost:8080/"
        },
        "id": "Fa_gXqRcmBaj",
        "outputId": "14b42c8a-c11e-4006-eb0a-6fcd4d245240"
      },
      "execution_count": null,
      "outputs": [
        {
          "output_type": "stream",
          "name": "stdout",
          "text": [
            "666.6666666666667\n"
          ]
        }
      ]
    },
    {
      "cell_type": "code",
      "source": [
        "a='canada{}usa{}mexico{}austrailia{}'"
      ],
      "metadata": {
        "id": "7WS1RoOappCh"
      },
      "execution_count": 37,
      "outputs": []
    },
    {
      "cell_type": "code",
      "source": [
        "a= a.split('{}')"
      ],
      "metadata": {
        "id": "ARY6vnQj25mO"
      },
      "execution_count": 44,
      "outputs": []
    },
    {
      "cell_type": "code",
      "source": [
        "a[2]"
      ],
      "metadata": {
        "colab": {
          "base_uri": "https://localhost:8080/",
          "height": 35
        },
        "id": "rhoJGKLM4EYc",
        "outputId": "098925fa-dbf1-47fe-df20-404b06698a95"
      },
      "execution_count": 46,
      "outputs": [
        {
          "output_type": "execute_result",
          "data": {
            "text/plain": [
              "'mexico'"
            ],
            "application/vnd.google.colaboratory.intrinsic+json": {
              "type": "string"
            }
          },
          "metadata": {},
          "execution_count": 46
        }
      ]
    }
  ]
}