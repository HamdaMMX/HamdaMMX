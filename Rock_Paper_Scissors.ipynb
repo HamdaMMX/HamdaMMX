{
  "nbformat": 4,
  "nbformat_minor": 0,
  "metadata": {
    "colab": {
      "provenance": [],
      "authorship_tag": "ABX9TyOmM01x9Pb6+wt0COPNlVEb",
      "include_colab_link": true
    },
    "kernelspec": {
      "name": "python3",
      "display_name": "Python 3"
    },
    "language_info": {
      "name": "python"
    }
  },
  "cells": [
    {
      "cell_type": "markdown",
      "metadata": {
        "id": "view-in-github",
        "colab_type": "text"
      },
      "source": [
        "<a href=\"https://colab.research.google.com/github/HamdaMMX/HamdaMMX/blob/main/Rock_Paper_Scissors.ipynb\" target=\"_parent\"><img src=\"https://colab.research.google.com/assets/colab-badge.svg\" alt=\"Open In Colab\"/></a>"
      ]
    },
    {
      "cell_type": "code",
      "execution_count": 3,
      "metadata": {
        "colab": {
          "base_uri": "https://localhost:8080/"
        },
        "id": "sb_93_G9UAtk",
        "outputId": "20c2010a-422d-4d80-944a-722ec4a62b92"
      },
      "outputs": [
        {
          "output_type": "stream",
          "name": "stdout",
          "text": [
            "Player: rock\n",
            "Computer: rock\n",
            "Draw\n"
          ]
        }
      ],
      "source": [
        "import random\n",
        "\n",
        "my_list = list(('rock', 'paper', 'scissors'))\n",
        "\n",
        "Player=str(input('Player: '))\n",
        "Computer= random.choice(my_list)\n",
        "print('Computer:', Computer)\n",
        "\n",
        "if Computer == 'rock' and Player == 'paper':\n",
        "    print('You win, well played!')\n",
        "\n",
        "elif Computer == 'paper' and Player == 'scissors':\n",
        "    print('You win, well played!')\n",
        "\n",
        "elif Computer == 'scissors' and Player == 'rock':\n",
        "    print('You win, well played!')\n",
        "\n",
        "elif Computer== 'rock' and Player== 'rock':\n",
        "    print('Draw')\n",
        "\n",
        "elif Computer== 'paper' and Player== 'paper':\n",
        "    print('Draw')\n",
        "\n",
        "elif Computer == 'scissors' and Player == 'scissors':\n",
        "    print('Draw')\n",
        "\n",
        "elif Computer == 'scissors' and Player == 'paper':\n",
        "    print('You lose, try again')\n",
        "\n",
        "elif Computer == 'rock' and Player == 'scissors':\n",
        "    print('You lose, try again')\n",
        "\n",
        "elif Computer == 'paper' and Player == 'rock':\n",
        "    print('You lose, try again')\n",
        "  \n",
        "else: print('error, retry')\n"
      ]
    }
  ]
}